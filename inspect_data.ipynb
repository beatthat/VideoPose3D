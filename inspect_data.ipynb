{
 "cells": [
  {
   "cell_type": "code",
   "execution_count": 4,
   "metadata": {},
   "outputs": [],
   "source": [
    "import numpy as np\n",
    "import os\n",
    "from utils.dataset import extract_data, get_poses"
   ]
  },
  {
   "cell_type": "code",
   "execution_count": 5,
   "metadata": {},
   "outputs": [
    {
     "name": "stdout",
     "output_type": "stream",
     "text": [
      "ConvertHumanEva.m\t\t    data_utils.py\r\n",
      "convert_cdf_to_mat.m\t\t    h36m.zip\r\n",
      "data_2d_h36m_cpn_ft_h36m_dbb.npz    prepare_data_2d_h36m_generic.py\r\n",
      "data_2d_h36m_detectron_ft_h36m.npz  prepare_data_2d_h36m_sh.py\r\n",
      "data_2d_h36m_gt.npz\t\t    prepare_data_h36m.py\r\n",
      "data_2d_h36m_sh_pt_mpii.npz\t    prepare_data_humaneva.py\r\n",
      "data_3d_h36m.npz\t\t    videos\r\n"
     ]
    }
   ],
   "source": [
    "PATH='.'\n",
    "DATA_PATH = os.path.join(PATH, 'data')\n",
    "!ls {DATA_PATH}"
   ]
  },
  {
   "cell_type": "code",
   "execution_count": 6,
   "metadata": {},
   "outputs": [
    {
     "name": "stdout",
     "output_type": "stream",
     "text": [
      "(3477, 17, 2)\n"
     ]
    }
   ],
   "source": [
    "data_file = os.path.join(DATA_PATH, 'data_2d_h36m_detectron_ft_h36m.npz')\n",
    "positions_2d, _ = extract_data(data_file)\n",
    "poses = get_poses(positions_2d, action='Walking 1')\n",
    "# print(f'poses={type(poses)}')\n",
    "print(poses.shape) # [3000, 17, 2] 3000 frames, 17 keypoints/frame, 2 dims/keypoint (x,y)"
   ]
  },
  {
   "cell_type": "code",
   "execution_count": null,
   "metadata": {},
   "outputs": [],
   "source": []
  }
 ],
 "metadata": {
  "kernelspec": {
   "display_name": "Python 3",
   "language": "python",
   "name": "python3"
  },
  "language_info": {
   "codemirror_mode": {
    "name": "ipython",
    "version": 3
   },
   "file_extension": ".py",
   "mimetype": "text/x-python",
   "name": "python",
   "nbconvert_exporter": "python",
   "pygments_lexer": "ipython3",
   "version": "3.6.6"
  }
 },
 "nbformat": 4,
 "nbformat_minor": 2
}
