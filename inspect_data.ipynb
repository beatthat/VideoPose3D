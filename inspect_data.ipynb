{
 "cells": [
  {
   "cell_type": "code",
   "execution_count": 2,
   "metadata": {},
   "outputs": [],
   "source": [
    "%load_ext autoreload\n",
    "%autoreload 2"
   ]
  },
  {
   "cell_type": "code",
   "execution_count": 3,
   "metadata": {},
   "outputs": [],
   "source": [
    "import numpy as np\n",
    "import os\n",
    "from utils.dataset import extract_data, get_poses, poses_2_archive"
   ]
  },
  {
   "cell_type": "code",
   "execution_count": 4,
   "metadata": {},
   "outputs": [
    {
     "name": "stdout",
     "output_type": "stream",
     "text": [
      "ConvertHumanEva.m\t\t\tdata_3d_h36m.npz.sav\r\n",
      "__init.py__\t\t\t\tdata_utils.py\r\n",
      "convert_cdf_to_mat.m\t\t\tdetectron\r\n",
      "data_2d_h36m_cpn_ft_h36m_dbb.npz\th36m.zip\r\n",
      "data_2d_h36m_detectron_custom_h36m.npz\tprepare_data_2d_h36m_generic.py\r\n",
      "data_2d_h36m_detectron_ft_h36m.npz\tprepare_data_2d_h36m_sh.py\r\n",
      "data_2d_h36m_gt.npz\t\t\tprepare_data_h36m.py\r\n",
      "data_2d_h36m_sh_pt_mpii.npz\t\tprepare_data_humaneva.py\r\n",
      "data_3d_h36m.npz\t\t\tvideos\r\n"
     ]
    }
   ],
   "source": [
    "PATH='.'\n",
    "DATA_PATH = os.path.join(PATH, 'data')\n",
    "!ls {DATA_PATH}"
   ]
  },
  {
   "cell_type": "code",
   "execution_count": 14,
   "metadata": {},
   "outputs": [
    {
     "name": "stdout",
     "output_type": "stream",
     "text": [
      "(3852, 32, 3)\n"
     ]
    },
    {
     "ename": "IndexError",
     "evalue": "index 11 is out of bounds for axis 0 with size 4",
     "output_type": "error",
     "traceback": [
      "\u001b[0;31m---------------------------------------------------------------------------\u001b[0m",
      "\u001b[0;31mIndexError\u001b[0m                                Traceback (most recent call last)",
      "\u001b[0;32m<ipython-input-14-0c49bbc978a8>\u001b[0m in \u001b[0;36m<module>\u001b[0;34m\u001b[0m\n\u001b[1;32m     14\u001b[0m \u001b[0;32mfrom\u001b[0m \u001b[0mcommon\u001b[0m\u001b[0;34m.\u001b[0m\u001b[0mh36m_dataset\u001b[0m \u001b[0;32mimport\u001b[0m \u001b[0mHuman36mDataset\u001b[0m\u001b[0;34m\u001b[0m\u001b[0;34m\u001b[0m\u001b[0m\n\u001b[1;32m     15\u001b[0m \u001b[0;34m\u001b[0m\u001b[0m\n\u001b[0;32m---> 16\u001b[0;31m \u001b[0mdataset_h36m1\u001b[0m \u001b[0;34m=\u001b[0m \u001b[0mHuman36mDataset\u001b[0m\u001b[0;34m(\u001b[0m\u001b[0mdata_file1\u001b[0m\u001b[0;34m)\u001b[0m\u001b[0;34m\u001b[0m\u001b[0;34m\u001b[0m\u001b[0m\n\u001b[0m\u001b[1;32m     17\u001b[0m \u001b[0;34m\u001b[0m\u001b[0m\n\u001b[1;32m     18\u001b[0m \u001b[0mprint\u001b[0m\u001b[0;34m(\u001b[0m\u001b[0mtype\u001b[0m\u001b[0;34m(\u001b[0m\u001b[0mdataset_h36m1\u001b[0m\u001b[0;34m)\u001b[0m\u001b[0;34m)\u001b[0m\u001b[0;34m\u001b[0m\u001b[0;34m\u001b[0m\u001b[0m\n",
      "\u001b[0;32m/videopose3d/common/h36m_dataset.py\u001b[0m in \u001b[0;36m__init__\u001b[0;34m(self, path, remove_static_joints)\u001b[0m\n\u001b[1;32m    248\u001b[0m \u001b[0;34m\u001b[0m\u001b[0m\n\u001b[1;32m    249\u001b[0m             \u001b[0;31m# Rewire shoulders to the correct parents\u001b[0m\u001b[0;34m\u001b[0m\u001b[0;34m\u001b[0m\u001b[0;34m\u001b[0m\u001b[0m\n\u001b[0;32m--> 250\u001b[0;31m             \u001b[0mself\u001b[0m\u001b[0;34m.\u001b[0m\u001b[0m_skeleton\u001b[0m\u001b[0;34m.\u001b[0m\u001b[0m_parents\u001b[0m\u001b[0;34m[\u001b[0m\u001b[0;36m11\u001b[0m\u001b[0;34m]\u001b[0m \u001b[0;34m=\u001b[0m \u001b[0;36m8\u001b[0m\u001b[0;34m\u001b[0m\u001b[0;34m\u001b[0m\u001b[0m\n\u001b[0m\u001b[1;32m    251\u001b[0m             \u001b[0mself\u001b[0m\u001b[0;34m.\u001b[0m\u001b[0m_skeleton\u001b[0m\u001b[0;34m.\u001b[0m\u001b[0m_parents\u001b[0m\u001b[0;34m[\u001b[0m\u001b[0;36m14\u001b[0m\u001b[0;34m]\u001b[0m \u001b[0;34m=\u001b[0m \u001b[0;36m8\u001b[0m\u001b[0;34m\u001b[0m\u001b[0;34m\u001b[0m\u001b[0m\n\u001b[1;32m    252\u001b[0m \u001b[0;34m\u001b[0m\u001b[0m\n",
      "\u001b[0;31mIndexError\u001b[0m: index 11 is out of bounds for axis 0 with size 4"
     ]
    }
   ],
   "source": [
    "data_file1 = os.path.join(DATA_PATH, 'data_3d_h36m.npz.sav')\n",
    "\n",
    "dataset_file1_loaded = np.load(data_file1)\n",
    "\n",
    "\n",
    "positions_3d = dataset_file1_loaded['positions_3d'].item()\n",
    "\n",
    "s1 = positions_3d['S1']\n",
    "a1 = s1['Discussion']\n",
    "\n",
    "print(a1.shape)\n",
    "\n",
    "\n",
    "from common.h36m_dataset import Human36mDataset\n",
    "\n",
    "dataset_h36m1 = Human36mDataset(data_file1)\n",
    "\n",
    "print(type(dataset_h36m1))"
   ]
  },
  {
   "cell_type": "code",
   "execution_count": 4,
   "metadata": {},
   "outputs": [
    {
     "name": "stdout",
     "output_type": "stream",
     "text": [
      "metadata={'layout_name': 'h36m', 'num_joints': 17, 'keypoints_symmetry': [[4, 5, 6, 11, 12, 13], [1, 2, 3, 14, 15, 16]]}\n",
      "(3477, 17, 2)\n"
     ]
    }
   ],
   "source": [
    "data_file = os.path.join(DATA_PATH, 'data_2d_h36m_detectron_ft_h36m.npz')\n",
    "positions_2d, metadata = extract_data(data_file)\n",
    "print(f'metadata={metadata}')\n",
    "poses = get_poses(positions_2d, action='Walking 1')\n",
    "# print(f'poses={type(poses)}')\n",
    "print(poses.shape) # [3000, 17, 2] 3000 frames, 17 keypoints/frame, 2 dims/keypoint (x,y)"
   ]
  },
  {
   "cell_type": "code",
   "execution_count": 6,
   "metadata": {},
   "outputs": [
    {
     "name": "stdout",
     "output_type": "stream",
     "text": [
      "[[[1, 2], [3, 4]]]\n"
     ]
    }
   ],
   "source": [
    "test_poses = [\n",
    "    [[1,2], [3,4]]\n",
    "]\n",
    "\n",
    "test_path = os.path.join(DATA_PATH, 'test1.npz')\n",
    "test_arch = poses_2_archive(test_poses)\n",
    "\n",
    "np.savez(test_path, **test_arch)\n",
    "\n",
    "positions_2d, metadata = extract_data(test_path)\n",
    "poses_round_trip = get_poses(positions_2d)\n",
    "# print(f'poses={type(poses)}')\n",
    "print(poses_round_trip) # [3000, 17, 2] 3000 frames, 17 keypoints/frame, 2 dims/keypoint (x,y)\n"
   ]
  },
  {
   "cell_type": "code",
   "execution_count": null,
   "metadata": {},
   "outputs": [],
   "source": []
  }
 ],
 "metadata": {
  "kernelspec": {
   "display_name": "Python 3",
   "language": "python",
   "name": "python3"
  },
  "language_info": {
   "codemirror_mode": {
    "name": "ipython",
    "version": 3
   },
   "file_extension": ".py",
   "mimetype": "text/x-python",
   "name": "python",
   "nbconvert_exporter": "python",
   "pygments_lexer": "ipython3",
   "version": "3.6.7"
  }
 },
 "nbformat": 4,
 "nbformat_minor": 2
}
